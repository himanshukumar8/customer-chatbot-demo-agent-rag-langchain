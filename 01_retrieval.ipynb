{
 "cells": [
  {
   "cell_type": "code",
   "execution_count": null,
   "id": "4b86a355-9bd1-4cb5-abdc-5cc026894f23",
   "metadata": {
    "tags": []
   },
   "outputs": [],
   "source": [
    "import os\n",
    "# from langchain_openai import OpenAIEmbeddings\n",
    "from langchain_ollama import OllamaEmbeddings\n",
    "# from langchain_community.vectorstores import Chroma\n",
    "from langchain_chroma import Chroma\n",
    "from langchain.tools.retriever import create_retriever_tool\n",
    "from langchain.prompts import SystemMessagePromptTemplate, MessagesPlaceholder, HumanMessagePromptTemplate, PromptTemplate"
   ]
  },
  {
   "cell_type": "markdown",
   "id": "f031d230-23f6-435a-9b88-cda348574621",
   "metadata": {},
   "source": [
    "# Create Embedding LLM (OpenAI)"
   ]
  },
  {
   "cell_type": "code",
   "execution_count": 2,
   "id": "02829a0e-a8ac-43d1-b136-92de00b0fc65",
   "metadata": {
    "tags": []
   },
   "outputs": [],
   "source": [
    "# with open('./openai_api_key.txt') as f:\n",
    "#     openai_api_key = f.read()\n",
    "# embedding_llm = OpenAIEmbeddings(openai_api_key=openai_api_key)\n",
    "embedding_llm = OllamaEmbeddings(model=\"llama3.2\")"
   ]
  },
  {
   "cell_type": "markdown",
   "id": "cbc884b4-a9fe-4da4-a805-b7e645a91f6a",
   "metadata": {},
   "source": [
    "# Load Databases"
   ]
  },
  {
   "cell_type": "code",
   "execution_count": 3,
   "id": "9117a041-4666-4b26-87b7-8647e302764d",
   "metadata": {
    "tags": []
   },
   "outputs": [],
   "source": [
    "db = Chroma(persist_directory='./chroma', embedding_function=embedding_llm,\n",
    "            collection_name=\"planetbucks\")"
   ]
  },
  {
   "cell_type": "markdown",
   "id": "8234c281-a9ba-421c-9fec-a6a5fde39150",
   "metadata": {},
   "source": [
    "# Using Chroma vector database"
   ]
  },
  {
   "cell_type": "markdown",
   "id": "9cd1de5d",
   "metadata": {},
   "source": [
    "## Similarity search"
   ]
  },
  {
   "cell_type": "code",
   "execution_count": 9,
   "id": "cd3d1846",
   "metadata": {},
   "outputs": [
    {
     "name": "stdout",
     "output_type": "stream",
     "text": [
      "4\n"
     ]
    },
    {
     "name": "stderr",
     "output_type": "stream",
     "text": [
      "/var/folders/t8/d6w7mpbs6jgb97yjsbby13jr0000gn/T/ipykernel_26573/2087482627.py:2: UserWarning: Relevance scores must be between 0 and 1, got [(Document(metadata={'source': '/Users/pisek/Documents/case-done-github/customer-chatbot-demo-agent-rag-langchain/docs/general_info.txt'}, page_content='Shop Name: PlanetBucks\\nWhat we sell: coffee drinks and coffee bean\\n\\nOperating time:\\nMonday to Friday 7 am - 8 pm\\nSaturday, Sunday, National Holiday 9 am - 4 pm\\n\\nAddress: ชั้น G ห้าง Emquartier สุขุมวิท กรุงเทพฯ\\nBranch 1: Icon Siam Mall, Third Floor, South Wing, Bangkok, Thailand\\nBranch 2: 103th Floor, Empire State Building, NYC\\n\\nPayment: cash, credit card, square, bitcoin'), 0.3074033956942437), (Document(metadata={'source': '/Users/pisek/Documents/case-done-github/customer-chatbot-demo-agent-rag-langchain/docs/product_factsheets/geisha.txt'}, page_content=\"Geisha Coffee Beans - Hacienda La Esmeralda\\n\\nOrigin: Boquete, Panama, from Hacienda La Esmeralda, renowned for producing award-winning Geisha coffee.\\nAltitude: Grown at elevations of 1,500 to 2,000 meters, ideal for developing the bean's distinctive flavors.\\nTaste Profile: A harmonious blend of jasmine and bergamot aromas, complemented by flavors of honey, peaches, and wild berries. The coffee boasts a bright acidity, a delicate body, and a sweet, lingering aftertaste.\\nProcessing: Washed process, highlighting its sweetness and intricate floral notes.\\nRoast Level: Light to medium roast, perfect for preserving the bean's unique flavors.\\nBrewing Recommendations: Best enjoyed using pour-over, Chemex, or Aeropress methods to savor its complex profile.\\nPackaging: 12 oz (340g) eco-friendly, resealable bags.\\nPrice: $50 per bag, a testament to its exceptional quality and exclusivity.\\nCertifications: Direct Trade, Rainforest Alliance Certified, ensuring sustainability and fair trade practices.\\nAwards: Celebrated for its outstanding quality with multiple wins in the Best of Panama competition.\"), -0.027104893626456406), (Document(metadata={'source': '/Users/pisek/Documents/case-done-github/customer-chatbot-demo-agent-rag-langchain/docs/product_factsheets/sumatra_mandheling.txt'}, page_content='Sumatra Mandheling Coffee Beans - The Heart of Indonesia\\n\\nOrigin: Sourced from the lush Mandheling region of North Sumatra, Indonesia, where coffee is cultivated with care and tradition.\\nAltitude: Grown at 1,000 to 1,500 meters, ideal for developing its signature deep and earthy flavors.\\nTaste Profile: A robust cup with a profile of dark chocolate and cedar, complemented by a hint of tropical fruit. Features low acidity, a full body, and a spicy aftertaste.\\nProcessing: Utilizes the Giling Basah method, distinctive to Indonesian coffee, enhancing its unique characteristics.\\nRoast Level: Medium to dark roast, perfect for bringing out its bold and rich flavors.\\nBrewing Recommendations: Best enjoyed in espresso or French press, where its complexity can be fully appreciated.\\nPackaging: 12 oz (340g) bags, prioritizing freshness.\\nPrice: $25 per bag, reflecting the premium quality and the unique coffee experience it offers.\\nCertifications: Rainforest Alliance Certified, affirming a commitment to sustainability.\\nAwards: Recognized for its distinctive taste profile and high quality by coffee connoisseurs.'), -0.27515777051796464), (Document(metadata={'source': '/Users/pisek/Documents/case-done-github/customer-chatbot-demo-agent-rag-langchain/docs/coffee_bean_menu.csv'}, page_content='\\ufeffTopic,Geisha,Yirgacheffe,Blue Mountain,Sumatra Mandheling\\nOrigin,\"Hacienda La Esmeralda, Panama\",\"Yirgacheffe region, Ethiopia\",\"Blue Mountains, Jamaica\",\"Mandheling, Sumatra, Indonesia\"\\nAltitude (meters),\"1,500-2,000\",\"1,700-2,200\",\"910-1,700\",\"1,000-1,500\"\\nFlavor Profile,\"Jasmine, bergamot, honey, peaches, berries\",\"Floral, lemon, bergamot, jasmine, honey\",\"Sweet herbs, nuts, chocolate\",\"Dark chocolate, cedar, tropical fruit\"\\nAcidity,Bright,Vibrant,Mild,Low\\nBody,Delicate,Light-Medium,Smooth,Full\\nAftertaste,Sweet,\"Clean, sweet\",\"Clean, chocolatey\",Spicy\\nProcessing Method,Washed,Washed,Wet-processed,Giling Basah\\nRoast Level,Light-Medium,Light-Medium,Medium,Medium-Dark\\nRecommended Brewing Methods,\"Pour-over, Chemex, Aeropress\",\"Pour-over, cold brew, drip\",\"Drip, French press\",\"Espresso, French press\"\\nPackaging (oz/g),12 oz (340g),12 oz (340g),16 oz (454g),12 oz (340g)\\nPrice ($ per bag),$50,$30,$40,$25\\nCertifications,\"Direct Trade, Rainforest Alliance\",\"Organic, Fair Trade\",100% Certified,Rainforest Alliance\\nAwards,Best of Panama winner,Global recognition,One of the best globally,Distinctive taste'), -0.30399168929757425)]\n",
      "  result = db.similarity_search_with_relevance_scores(query)\n"
     ]
    }
   ],
   "source": [
    "query = \"opening hours\"\n",
    "result = db.similarity_search_with_relevance_scores(query)\n",
    "# result = db.similarity_search_with_score(query)\n",
    "print(len(result))"
   ]
  },
  {
   "cell_type": "code",
   "execution_count": 10,
   "id": "38ac7353",
   "metadata": {},
   "outputs": [
    {
     "data": {
      "text/plain": [
       "[(Document(metadata={'source': '/Users/pisek/Documents/case-done-github/customer-chatbot-demo-agent-rag-langchain/docs/general_info.txt'}, page_content='Shop Name: PlanetBucks\\nWhat we sell: coffee drinks and coffee bean\\n\\nOperating time:\\nMonday to Friday 7 am - 8 pm\\nSaturday, Sunday, National Holiday 9 am - 4 pm\\n\\nAddress: ชั้น G ห้าง Emquartier สุขุมวิท กรุงเทพฯ\\nBranch 1: Icon Siam Mall, Third Floor, South Wing, Bangkok, Thailand\\nBranch 2: 103th Floor, Empire State Building, NYC\\n\\nPayment: cash, credit card, square, bitcoin'),\n",
       "  0.3074033956942437),\n",
       " (Document(metadata={'source': '/Users/pisek/Documents/case-done-github/customer-chatbot-demo-agent-rag-langchain/docs/product_factsheets/geisha.txt'}, page_content=\"Geisha Coffee Beans - Hacienda La Esmeralda\\n\\nOrigin: Boquete, Panama, from Hacienda La Esmeralda, renowned for producing award-winning Geisha coffee.\\nAltitude: Grown at elevations of 1,500 to 2,000 meters, ideal for developing the bean's distinctive flavors.\\nTaste Profile: A harmonious blend of jasmine and bergamot aromas, complemented by flavors of honey, peaches, and wild berries. The coffee boasts a bright acidity, a delicate body, and a sweet, lingering aftertaste.\\nProcessing: Washed process, highlighting its sweetness and intricate floral notes.\\nRoast Level: Light to medium roast, perfect for preserving the bean's unique flavors.\\nBrewing Recommendations: Best enjoyed using pour-over, Chemex, or Aeropress methods to savor its complex profile.\\nPackaging: 12 oz (340g) eco-friendly, resealable bags.\\nPrice: $50 per bag, a testament to its exceptional quality and exclusivity.\\nCertifications: Direct Trade, Rainforest Alliance Certified, ensuring sustainability and fair trade practices.\\nAwards: Celebrated for its outstanding quality with multiple wins in the Best of Panama competition.\"),\n",
       "  -0.027104893626456406),\n",
       " (Document(metadata={'source': '/Users/pisek/Documents/case-done-github/customer-chatbot-demo-agent-rag-langchain/docs/product_factsheets/sumatra_mandheling.txt'}, page_content='Sumatra Mandheling Coffee Beans - The Heart of Indonesia\\n\\nOrigin: Sourced from the lush Mandheling region of North Sumatra, Indonesia, where coffee is cultivated with care and tradition.\\nAltitude: Grown at 1,000 to 1,500 meters, ideal for developing its signature deep and earthy flavors.\\nTaste Profile: A robust cup with a profile of dark chocolate and cedar, complemented by a hint of tropical fruit. Features low acidity, a full body, and a spicy aftertaste.\\nProcessing: Utilizes the Giling Basah method, distinctive to Indonesian coffee, enhancing its unique characteristics.\\nRoast Level: Medium to dark roast, perfect for bringing out its bold and rich flavors.\\nBrewing Recommendations: Best enjoyed in espresso or French press, where its complexity can be fully appreciated.\\nPackaging: 12 oz (340g) bags, prioritizing freshness.\\nPrice: $25 per bag, reflecting the premium quality and the unique coffee experience it offers.\\nCertifications: Rainforest Alliance Certified, affirming a commitment to sustainability.\\nAwards: Recognized for its distinctive taste profile and high quality by coffee connoisseurs.'),\n",
       "  -0.27515777051796464),\n",
       " (Document(metadata={'source': '/Users/pisek/Documents/case-done-github/customer-chatbot-demo-agent-rag-langchain/docs/coffee_bean_menu.csv'}, page_content='\\ufeffTopic,Geisha,Yirgacheffe,Blue Mountain,Sumatra Mandheling\\nOrigin,\"Hacienda La Esmeralda, Panama\",\"Yirgacheffe region, Ethiopia\",\"Blue Mountains, Jamaica\",\"Mandheling, Sumatra, Indonesia\"\\nAltitude (meters),\"1,500-2,000\",\"1,700-2,200\",\"910-1,700\",\"1,000-1,500\"\\nFlavor Profile,\"Jasmine, bergamot, honey, peaches, berries\",\"Floral, lemon, bergamot, jasmine, honey\",\"Sweet herbs, nuts, chocolate\",\"Dark chocolate, cedar, tropical fruit\"\\nAcidity,Bright,Vibrant,Mild,Low\\nBody,Delicate,Light-Medium,Smooth,Full\\nAftertaste,Sweet,\"Clean, sweet\",\"Clean, chocolatey\",Spicy\\nProcessing Method,Washed,Washed,Wet-processed,Giling Basah\\nRoast Level,Light-Medium,Light-Medium,Medium,Medium-Dark\\nRecommended Brewing Methods,\"Pour-over, Chemex, Aeropress\",\"Pour-over, cold brew, drip\",\"Drip, French press\",\"Espresso, French press\"\\nPackaging (oz/g),12 oz (340g),12 oz (340g),16 oz (454g),12 oz (340g)\\nPrice ($ per bag),$50,$30,$40,$25\\nCertifications,\"Direct Trade, Rainforest Alliance\",\"Organic, Fair Trade\",100% Certified,Rainforest Alliance\\nAwards,Best of Panama winner,Global recognition,One of the best globally,Distinctive taste'),\n",
       "  -0.30399168929757425)]"
      ]
     },
     "execution_count": 10,
     "metadata": {},
     "output_type": "execute_result"
    }
   ],
   "source": [
    "result"
   ]
  },
  {
   "cell_type": "code",
   "execution_count": 11,
   "id": "14c64d61",
   "metadata": {},
   "outputs": [
    {
     "name": "stdout",
     "output_type": "stream",
     "text": [
      "2\n"
     ]
    },
    {
     "name": "stderr",
     "output_type": "stream",
     "text": [
      "/var/folders/t8/d6w7mpbs6jgb97yjsbby13jr0000gn/T/ipykernel_26573/1005650327.py:1: UserWarning: Relevance scores must be between 0 and 1, got [(Document(metadata={'source': '/Users/pisek/Documents/case-done-github/customer-chatbot-demo-agent-rag-langchain/docs/general_info.txt'}, page_content='Shop Name: PlanetBucks\\nWhat we sell: coffee drinks and coffee bean\\n\\nOperating time:\\nMonday to Friday 7 am - 8 pm\\nSaturday, Sunday, National Holiday 9 am - 4 pm\\n\\nAddress: ชั้น G ห้าง Emquartier สุขุมวิท กรุงเทพฯ\\nBranch 1: Icon Siam Mall, Third Floor, South Wing, Bangkok, Thailand\\nBranch 2: 103th Floor, Empire State Building, NYC\\n\\nPayment: cash, credit card, square, bitcoin'), 0.3074033956942437), (Document(metadata={'source': '/Users/pisek/Documents/case-done-github/customer-chatbot-demo-agent-rag-langchain/docs/product_factsheets/geisha.txt'}, page_content=\"Geisha Coffee Beans - Hacienda La Esmeralda\\n\\nOrigin: Boquete, Panama, from Hacienda La Esmeralda, renowned for producing award-winning Geisha coffee.\\nAltitude: Grown at elevations of 1,500 to 2,000 meters, ideal for developing the bean's distinctive flavors.\\nTaste Profile: A harmonious blend of jasmine and bergamot aromas, complemented by flavors of honey, peaches, and wild berries. The coffee boasts a bright acidity, a delicate body, and a sweet, lingering aftertaste.\\nProcessing: Washed process, highlighting its sweetness and intricate floral notes.\\nRoast Level: Light to medium roast, perfect for preserving the bean's unique flavors.\\nBrewing Recommendations: Best enjoyed using pour-over, Chemex, or Aeropress methods to savor its complex profile.\\nPackaging: 12 oz (340g) eco-friendly, resealable bags.\\nPrice: $50 per bag, a testament to its exceptional quality and exclusivity.\\nCertifications: Direct Trade, Rainforest Alliance Certified, ensuring sustainability and fair trade practices.\\nAwards: Celebrated for its outstanding quality with multiple wins in the Best of Panama competition.\"), -0.027104893626456406)]\n",
      "  result = db.similarity_search_with_relevance_scores(query, k=2)\n"
     ]
    }
   ],
   "source": [
    "result = db.similarity_search_with_relevance_scores(query, k=2)\n",
    "print(len(result))"
   ]
  },
  {
   "cell_type": "code",
   "execution_count": 12,
   "id": "7edefae4",
   "metadata": {},
   "outputs": [
    {
     "data": {
      "text/plain": [
       "[(Document(metadata={'source': '/Users/pisek/Documents/case-done-github/customer-chatbot-demo-agent-rag-langchain/docs/general_info.txt'}, page_content='Shop Name: PlanetBucks\\nWhat we sell: coffee drinks and coffee bean\\n\\nOperating time:\\nMonday to Friday 7 am - 8 pm\\nSaturday, Sunday, National Holiday 9 am - 4 pm\\n\\nAddress: ชั้น G ห้าง Emquartier สุขุมวิท กรุงเทพฯ\\nBranch 1: Icon Siam Mall, Third Floor, South Wing, Bangkok, Thailand\\nBranch 2: 103th Floor, Empire State Building, NYC\\n\\nPayment: cash, credit card, square, bitcoin'),\n",
       "  0.3074033956942437),\n",
       " (Document(metadata={'source': '/Users/pisek/Documents/case-done-github/customer-chatbot-demo-agent-rag-langchain/docs/product_factsheets/geisha.txt'}, page_content=\"Geisha Coffee Beans - Hacienda La Esmeralda\\n\\nOrigin: Boquete, Panama, from Hacienda La Esmeralda, renowned for producing award-winning Geisha coffee.\\nAltitude: Grown at elevations of 1,500 to 2,000 meters, ideal for developing the bean's distinctive flavors.\\nTaste Profile: A harmonious blend of jasmine and bergamot aromas, complemented by flavors of honey, peaches, and wild berries. The coffee boasts a bright acidity, a delicate body, and a sweet, lingering aftertaste.\\nProcessing: Washed process, highlighting its sweetness and intricate floral notes.\\nRoast Level: Light to medium roast, perfect for preserving the bean's unique flavors.\\nBrewing Recommendations: Best enjoyed using pour-over, Chemex, or Aeropress methods to savor its complex profile.\\nPackaging: 12 oz (340g) eco-friendly, resealable bags.\\nPrice: $50 per bag, a testament to its exceptional quality and exclusivity.\\nCertifications: Direct Trade, Rainforest Alliance Certified, ensuring sustainability and fair trade practices.\\nAwards: Celebrated for its outstanding quality with multiple wins in the Best of Panama competition.\"),\n",
       "  -0.027104893626456406)]"
      ]
     },
     "execution_count": 12,
     "metadata": {},
     "output_type": "execute_result"
    }
   ],
   "source": [
    "result"
   ]
  },
  {
   "cell_type": "markdown",
   "id": "1fc8560b",
   "metadata": {},
   "source": [
    "## MMR (Maximum marginal relevance)\n",
    "- MMR = iteratively find documents that are dissimilar to previous results.\n",
    "- It could improve performance for retrievals."
   ]
  },
  {
   "cell_type": "code",
   "execution_count": 13,
   "id": "1f6b8b0b",
   "metadata": {},
   "outputs": [
    {
     "name": "stderr",
     "output_type": "stream",
     "text": [
      "Number of requested results 20 is greater than number of elements in index 7, updating n_results = 7\n"
     ]
    },
    {
     "data": {
      "text/plain": [
       "[Document(metadata={'source': '/Users/pisek/Documents/case-done-github/customer-chatbot-demo-agent-rag-langchain/docs/general_info.txt'}, page_content='Shop Name: PlanetBucks\\nWhat we sell: coffee drinks and coffee bean\\n\\nOperating time:\\nMonday to Friday 7 am - 8 pm\\nSaturday, Sunday, National Holiday 9 am - 4 pm\\n\\nAddress: ชั้น G ห้าง Emquartier สุขุมวิท กรุงเทพฯ\\nBranch 1: Icon Siam Mall, Third Floor, South Wing, Bangkok, Thailand\\nBranch 2: 103th Floor, Empire State Building, NYC\\n\\nPayment: cash, credit card, square, bitcoin'),\n",
       " Document(metadata={'source': '/Users/pisek/Documents/case-done-github/customer-chatbot-demo-agent-rag-langchain/docs/product_factsheets/yirgacheffe.txt'}, page_content=\"Yirgacheffe Coffee Beans - The Essence of Ethiopia\\n\\nOrigin: Sourced from the esteemed Yirgacheffe region within Sidamo, Ethiopia, where coffee cultivation is an art passed down through generations.\\nAltitude: Cultivated at 1,700 to 2,200 meters, the ideal range for developing its signature floral and citrus notes.\\nTaste Profile: A delightful floral bouquet with a citrusy twist, featuring lemon and bergamot, and accented by jasmine and honey. Exhibits a bright acidity and a light to medium body, culminating in a refreshingly sweet aftertaste.\\nProcessing: Washed processing enhances its inherent clarity and exquisite floral undertones.\\nRoast Level: Optimal light to medium roast to preserve the bean's delicate flavors.\\nBrewing Recommendations: Best experienced through pour-over, cold brew, or drip coffee, allowing its unique characteristics to shine.\\nPackaging: 12 oz (340g) bags designed with the environment in mind.\\nPrice: $30 per bag, a tribute to its premium quality and the intricate care involved in its production.\\nCertifications: Proudly Organic and Fair Trade certified, supporting ethical and sustainable coffee farming.\\nAwards: Celebrated for its unique flavor profile and quality, both in Ethiopia and internationally.\")]"
      ]
     },
     "execution_count": 13,
     "metadata": {},
     "output_type": "execute_result"
    }
   ],
   "source": [
    "db.max_marginal_relevance_search(query, k=2)"
   ]
  },
  {
   "cell_type": "markdown",
   "id": "6ee824d4",
   "metadata": {},
   "source": [
    "# Retriever"
   ]
  },
  {
   "cell_type": "code",
   "execution_count": 14,
   "id": "2ff7810c",
   "metadata": {},
   "outputs": [],
   "source": [
    "retriever = db.as_retriever(search_type='mmr', search_kwargs={'k': 2, 'fetch_k': 5})"
   ]
  },
  {
   "cell_type": "code",
   "execution_count": 15,
   "id": "04db113c",
   "metadata": {},
   "outputs": [
    {
     "data": {
      "text/plain": [
       "[Document(metadata={'source': '/Users/pisek/Documents/case-done-github/customer-chatbot-demo-agent-rag-langchain/docs/general_info.txt'}, page_content='Shop Name: PlanetBucks\\nWhat we sell: coffee drinks and coffee bean\\n\\nOperating time:\\nMonday to Friday 7 am - 8 pm\\nSaturday, Sunday, National Holiday 9 am - 4 pm\\n\\nAddress: ชั้น G ห้าง Emquartier สุขุมวิท กรุงเทพฯ\\nBranch 1: Icon Siam Mall, Third Floor, South Wing, Bangkok, Thailand\\nBranch 2: 103th Floor, Empire State Building, NYC\\n\\nPayment: cash, credit card, square, bitcoin'),\n",
       " Document(metadata={'source': '/Users/pisek/Documents/case-done-github/customer-chatbot-demo-agent-rag-langchain/docs/product_factsheets/geisha.txt'}, page_content=\"Geisha Coffee Beans - Hacienda La Esmeralda\\n\\nOrigin: Boquete, Panama, from Hacienda La Esmeralda, renowned for producing award-winning Geisha coffee.\\nAltitude: Grown at elevations of 1,500 to 2,000 meters, ideal for developing the bean's distinctive flavors.\\nTaste Profile: A harmonious blend of jasmine and bergamot aromas, complemented by flavors of honey, peaches, and wild berries. The coffee boasts a bright acidity, a delicate body, and a sweet, lingering aftertaste.\\nProcessing: Washed process, highlighting its sweetness and intricate floral notes.\\nRoast Level: Light to medium roast, perfect for preserving the bean's unique flavors.\\nBrewing Recommendations: Best enjoyed using pour-over, Chemex, or Aeropress methods to savor its complex profile.\\nPackaging: 12 oz (340g) eco-friendly, resealable bags.\\nPrice: $50 per bag, a testament to its exceptional quality and exclusivity.\\nCertifications: Direct Trade, Rainforest Alliance Certified, ensuring sustainability and fair trade practices.\\nAwards: Celebrated for its outstanding quality with multiple wins in the Best of Panama competition.\")]"
      ]
     },
     "execution_count": 15,
     "metadata": {},
     "output_type": "execute_result"
    }
   ],
   "source": [
    "retriever.invoke(query)"
   ]
  }
 ],
 "metadata": {
  "environment": {
   "kernel": "python3",
   "name": "common-cpu.m118",
   "type": "gcloud",
   "uri": "us-docker.pkg.dev/deeplearning-platform-release/gcr.io/base-cpu:m118"
  },
  "kernelspec": {
   "display_name": "ytsum",
   "language": "python",
   "name": "python3"
  },
  "language_info": {
   "codemirror_mode": {
    "name": "ipython",
    "version": 3
   },
   "file_extension": ".py",
   "mimetype": "text/x-python",
   "name": "python",
   "nbconvert_exporter": "python",
   "pygments_lexer": "ipython3",
   "version": "3.12.7"
  }
 },
 "nbformat": 4,
 "nbformat_minor": 5
}
